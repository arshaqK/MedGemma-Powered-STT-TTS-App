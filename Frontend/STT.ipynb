{
 "cells": [
  {
   "cell_type": "code",
   "execution_count": 8,
   "metadata": {
    "id": "aw_rL0KVDdh9"
   },
   "outputs": [],
   "source": [
    "from IPython.display import Audio, display\n",
    "from IPython.display import Javascript\n",
    "from base64 import b64decode\n",
    "import io\n",
    "import os"
   ]
  },
  {
   "cell_type": "code",
   "execution_count": 9,
   "metadata": {
    "colab": {
     "base_uri": "https://localhost:8080/",
     "height": 52
    },
    "id": "F7gfLTj4Cc9s",
    "outputId": "3f3e9898-3ce6-4a7b-d7ee-f429576309fe"
   },
   "outputs": [
    {
     "name": "stdout",
     "output_type": "stream",
     "text": [
      "Recoording started for 10 seconds\n"
     ]
    },
    {
     "data": {
      "application/javascript": [
       "\n",
       "    const sleep = time => new Promise(resolve => setTimeout(resolve, time))\n",
       "    const b2text = blob => new Promise(resolve => {\n",
       "        const reader = new FileReader()\n",
       "        reader.onloadend = () => resolve(reader.result)\n",
       "        reader.readAsDataURL(blob)\n",
       "    })\n",
       "\n",
       "    async function record() {\n",
       "        const stream = await navigator.mediaDevices.getUserMedia({ audio: true })\n",
       "        const mediaRecorder = new MediaRecorder(stream)\n",
       "        let audioChunks = []\n",
       "\n",
       "        mediaRecorder.ondataavailable = e => audioChunks.push(e.data)\n",
       "        mediaRecorder.start()\n",
       "\n",
       "        await sleep(60 * 1000)\n",
       "        mediaRecorder.stop()\n",
       "\n",
       "        await new Promise(resolve => mediaRecorder.onstop = resolve)\n",
       "\n",
       "        const audioBlob = new Blob(audioChunks)\n",
       "        const base64 = await b2text(audioBlob)\n",
       "        google.colab.kernel.invokeFunction('notebook.save_audio', [base64], {})\n",
       "    }\n",
       "    record()\n",
       "    "
      ],
      "text/plain": [
       "<IPython.core.display.Javascript object>"
      ]
     },
     "metadata": {},
     "output_type": "display_data"
    },
    {
     "name": "stdout",
     "output_type": "stream",
     "text": [
      "✅ Audio saved as user_input.wav\n"
     ]
    }
   ],
   "source": [
    "# Step 1: Install dependencies (run once)\n",
    "# !pip install -q transformers torchaudio accelerate librosa\n",
    "\n",
    "# Step 2: Record audio from microphone in Colab\n",
    "\n",
    "\n",
    "RECORD_SECONDS = 60  # Max recording duration\n",
    "AUDIO_PATH = \"user_input.wav\"\n",
    "\n",
    "\n",
    "# JS-based audio recorder\n",
    "def record_audio():\n",
    "    display(Javascript(\"\"\"\n",
    "    const sleep = time => new Promise(resolve => setTimeout(resolve, time))\n",
    "    const b2text = blob => new Promise(resolve => {\n",
    "        const reader = new FileReader()\n",
    "        reader.onloadend = () => resolve(reader.result)\n",
    "        reader.readAsDataURL(blob)\n",
    "    })\n",
    "\n",
    "    async function record() {\n",
    "        const stream = await navigator.mediaDevices.getUserMedia({ audio: true })\n",
    "        const mediaRecorder = new MediaRecorder(stream)\n",
    "        let audioChunks = []\n",
    "\n",
    "        mediaRecorder.ondataavailable = e => audioChunks.push(e.data)\n",
    "        mediaRecorder.start()\n",
    "\n",
    "        await sleep(%d * 1000)\n",
    "        mediaRecorder.stop()\n",
    "\n",
    "        await new Promise(resolve => mediaRecorder.onstop = resolve)\n",
    "\n",
    "        const audioBlob = new Blob(audioChunks)\n",
    "        const base64 = await b2text(audioBlob)\n",
    "        google.colab.kernel.invokeFunction('notebook.save_audio', [base64], {})\n",
    "    }\n",
    "    record()\n",
    "    \"\"\" % RECORD_SECONDS))\n",
    "\n",
    "# Python-side: save base64 audio blob\n",
    "from google.colab import output\n",
    "import base64\n",
    "\n",
    "def save_audio(base64_audio):\n",
    "    header, encoded = base64_audio.split(\",\", 1)\n",
    "    data = base64.b64decode(encoded)\n",
    "    with open(AUDIO_PATH, \"wb\") as f:\n",
    "\n",
    "        f.write(data)\n",
    "    print(\"✅ Audio saved as\", AUDIO_PATH)\n",
    "\n",
    "output.register_callback('notebook.save_audio', save_audio)\n",
    "\n",
    "# Start recording\n",
    "print(\"Recoording started for 10 seconds\")\n",
    "record_audio()\n"
   ]
  },
  {
   "cell_type": "code",
   "execution_count": 15,
   "metadata": {
    "id": "mFHhFi3OC9cq"
   },
   "outputs": [],
   "source": [
    "import torch\n",
    "import torchaudio\n",
    "from transformers import AutoProcessor, AutoModelForSpeechSeq2Seq, WhisperTokenizer\n",
    "\n",
    "SAMPLE_RATE = 16000\n",
    "MODEL_NAME = \"openai/whisper-large-v3\"\n",
    "\n"
   ]
  },
  {
   "cell_type": "code",
   "execution_count": 40,
   "metadata": {
    "id": "Ij1GRIH8NCMd"
   },
   "outputs": [],
   "source": [
    "# Load audio\n",
    "waveform, sr = torchaudio.load(\"/content/common_voice_ur_26574929.wav\")\n",
    "if sr != SAMPLE_RATE:\n",
    "    resampler = torchaudio.transforms.Resample(orig_freq=sr, new_freq=SAMPLE_RATE)\n",
    "    waveform = resampler(waveform)\n",
    "\n",
    "waveform = waveform.squeeze()\n"
   ]
  },
  {
   "cell_type": "code",
   "execution_count": 17,
   "metadata": {
    "colab": {
     "base_uri": "https://localhost:8080/"
    },
    "id": "JvGjlm8INEmK",
    "outputId": "c9e771b6-8da1-4e9c-98dc-5ff8539959ae"
   },
   "outputs": [
    {
     "data": {
      "text/plain": [
       "WhisperForConditionalGeneration(\n",
       "  (model): WhisperModel(\n",
       "    (encoder): WhisperEncoder(\n",
       "      (conv1): Conv1d(128, 1280, kernel_size=(3,), stride=(1,), padding=(1,))\n",
       "      (conv2): Conv1d(1280, 1280, kernel_size=(3,), stride=(2,), padding=(1,))\n",
       "      (embed_positions): Embedding(1500, 1280)\n",
       "      (layers): ModuleList(\n",
       "        (0-31): 32 x WhisperEncoderLayer(\n",
       "          (self_attn): WhisperAttention(\n",
       "            (k_proj): Linear(in_features=1280, out_features=1280, bias=False)\n",
       "            (v_proj): Linear(in_features=1280, out_features=1280, bias=True)\n",
       "            (q_proj): Linear(in_features=1280, out_features=1280, bias=True)\n",
       "            (out_proj): Linear(in_features=1280, out_features=1280, bias=True)\n",
       "          )\n",
       "          (self_attn_layer_norm): LayerNorm((1280,), eps=1e-05, elementwise_affine=True)\n",
       "          (activation_fn): GELUActivation()\n",
       "          (fc1): Linear(in_features=1280, out_features=5120, bias=True)\n",
       "          (fc2): Linear(in_features=5120, out_features=1280, bias=True)\n",
       "          (final_layer_norm): LayerNorm((1280,), eps=1e-05, elementwise_affine=True)\n",
       "        )\n",
       "      )\n",
       "      (layer_norm): LayerNorm((1280,), eps=1e-05, elementwise_affine=True)\n",
       "    )\n",
       "    (decoder): WhisperDecoder(\n",
       "      (embed_tokens): Embedding(51866, 1280, padding_idx=50256)\n",
       "      (embed_positions): WhisperPositionalEmbedding(448, 1280)\n",
       "      (layers): ModuleList(\n",
       "        (0-31): 32 x WhisperDecoderLayer(\n",
       "          (self_attn): WhisperAttention(\n",
       "            (k_proj): Linear(in_features=1280, out_features=1280, bias=False)\n",
       "            (v_proj): Linear(in_features=1280, out_features=1280, bias=True)\n",
       "            (q_proj): Linear(in_features=1280, out_features=1280, bias=True)\n",
       "            (out_proj): Linear(in_features=1280, out_features=1280, bias=True)\n",
       "          )\n",
       "          (activation_fn): GELUActivation()\n",
       "          (self_attn_layer_norm): LayerNorm((1280,), eps=1e-05, elementwise_affine=True)\n",
       "          (encoder_attn): WhisperAttention(\n",
       "            (k_proj): Linear(in_features=1280, out_features=1280, bias=False)\n",
       "            (v_proj): Linear(in_features=1280, out_features=1280, bias=True)\n",
       "            (q_proj): Linear(in_features=1280, out_features=1280, bias=True)\n",
       "            (out_proj): Linear(in_features=1280, out_features=1280, bias=True)\n",
       "          )\n",
       "          (encoder_attn_layer_norm): LayerNorm((1280,), eps=1e-05, elementwise_affine=True)\n",
       "          (fc1): Linear(in_features=1280, out_features=5120, bias=True)\n",
       "          (fc2): Linear(in_features=5120, out_features=1280, bias=True)\n",
       "          (final_layer_norm): LayerNorm((1280,), eps=1e-05, elementwise_affine=True)\n",
       "        )\n",
       "      )\n",
       "      (layer_norm): LayerNorm((1280,), eps=1e-05, elementwise_affine=True)\n",
       "    )\n",
       "  )\n",
       "  (proj_out): Linear(in_features=1280, out_features=51866, bias=False)\n",
       ")"
      ]
     },
     "execution_count": 17,
     "metadata": {},
     "output_type": "execute_result"
    }
   ],
   "source": [
    "\n",
    "# Load model and processor\n",
    "processor = AutoProcessor.from_pretrained(MODEL_NAME)\n",
    "model = AutoModelForSpeechSeq2Seq.from_pretrained(MODEL_NAME)\n",
    "device = \"cuda\" if torch.cuda.is_available() else \"cpu\"\n",
    "model.to(device)\n"
   ]
  },
  {
   "cell_type": "code",
   "execution_count": 41,
   "metadata": {
    "id": "CI5n0WEONGUC"
   },
   "outputs": [],
   "source": [
    "\n",
    "# Process input\n",
    "inputs = processor(waveform, sampling_rate=SAMPLE_RATE, return_tensors=\"pt\", task=\"transcribe\")\n",
    "inputs = {k: v.to(device) for k, v in inputs.items()}\n"
   ]
  },
  {
   "cell_type": "code",
   "execution_count": 42,
   "metadata": {
    "colab": {
     "base_uri": "https://localhost:8080/"
    },
    "id": "jzNQ_l_fNOrJ",
    "outputId": "fd2df2d2-74e7-4cf1-adc5-976dc4828a7b"
   },
   "outputs": [
    {
     "name": "stdout",
     "output_type": "stream",
     "text": [
      "🌍 Detected language: Ĩ\n",
      "📝 Transcription:\n",
      "  आ जाता है कि डाउन लीग्स पहले एक रूम था।\n"
     ]
    }
   ],
   "source": [
    "\n",
    "# Transcribe\n",
    "with torch.no_grad():\n",
    "    generated_ids = model.generate(inputs[\"input_features\"])\n",
    "\n",
    "tokenizer = WhisperTokenizer.from_pretrained(MODEL_NAME)\n",
    "lang_token_id = generated_ids[0][1].item()\n",
    "detected_lang = tokenizer.convert_ids_to_tokens(lang_token_id)\n",
    "print(\"🌍 Detected language:\", detected_lang)\n",
    "\n",
    "transcription = processor.batch_decode(generated_ids, skip_special_tokens=True)[0]\n",
    "print(\"📝 Transcription:\\n\", transcription)\n"
   ]
  }
 ],
 "metadata": {
  "accelerator": "GPU",
  "colab": {
   "gpuType": "T4",
   "provenance": []
  },
  "kernelspec": {
   "display_name": "Python 3 (ipykernel)",
   "language": "python",
   "name": "python3"
  },
  "language_info": {
   "codemirror_mode": {
    "name": "ipython",
    "version": 3
   },
   "file_extension": ".py",
   "mimetype": "text/x-python",
   "name": "python",
   "nbconvert_exporter": "python",
   "pygments_lexer": "ipython3",
   "version": "3.12.7"
  }
 },
 "nbformat": 4,
 "nbformat_minor": 4
}
